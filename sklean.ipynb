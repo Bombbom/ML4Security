{
  "cells": [
    {
      "cell_type": "markdown",
      "metadata": {
        "colab_type": "text",
        "id": "view-in-github"
      },
      "source": [
        "<a href=\"https://colab.research.google.com/github/Bombbom/ML4Security/blob/main/sklean.ipynb\" target=\"_parent\"><img src=\"https://colab.research.google.com/assets/colab-badge.svg\" alt=\"Open In Colab\"/></a>"
      ]
    },
    {
      "cell_type": "markdown",
      "metadata": {},
      "source": [
        "Step 1: Choose a class of model\n",
        "In this first step, we need to choose a class of model. It can be done by importing the appropriate Estimator class from Scikit-learn.\n",
        "\n",
        "Step 2: Choose model hyperparameters\n",
        "In this step, we need to choose class model hyperparameters. It can be done by instantiating the class with desired values.\n",
        "\n",
        "Step 3: Arranging the data\n",
        "Next, we need to arrange the data into features matrix (X) and target vector(y).\n",
        "\n",
        "Step 4: Model Fitting\n",
        "Now, we need to fit the model to your data. It can be done by calling fit() method of the model instance.\n",
        "\n",
        "Step 5: Applying the model\n",
        "After fitting the model, we can apply it to new data. For supervised learning, use predict() method to predict the labels for unknown data. While for unsupervised learning, use predict() or transform() to infer properties of the data."
      ]
    },
    {
      "cell_type": "code",
      "execution_count": null,
      "metadata": {
        "id": "gs4i5QUTrIAY"
      },
      "outputs": [],
      "source": [
        "%matplotlib inline\n",
        "import matplotlib.pyplot as plt\n",
        "import numpy as np\n",
        "import seaborn as sns\n",
        "\n",
        "iris = sns.load_dataset('iris')\n",
        "X_iris = iris.drop('species', axis = 1)\n",
        "X_iris.shape\n",
        "y_iris = iris['species']\n",
        "y_iris.shape\n",
        "\n",
        "rng = np.random.RandomState(35)\n",
        "x = 10*rng.rand(40)\n",
        "y = 2*x-1+rng.randn(40)\n",
        "plt.scatter(x,y);\n",
        "from sklearn.linear_model import LinearRegression\n",
        "model = LinearRegression(fit_intercept=True)\n",
        "model\n",
        "X = x[:, np.newaxis]\n",
        "X.shape\n",
        "\n",
        "model.fit(X, y)\n",
        "model.coef_\n",
        "model.intercept_\n",
        "\n",
        "xfit = np.linspace(-1, 11)\n",
        "Xfit = xfit[:, np.newaxis]\n",
        "yfit = model.predict(Xfit)\n",
        "plt.scatter(x, y)\n",
        "plt.plot(xfit, yfit);"
      ]
    },
    {
      "cell_type": "markdown",
      "metadata": {},
      "source": [
        "- Multiclass\n",
        "- Multilabel\n",
        "\n"
      ]
    },
    {
      "cell_type": "code",
      "execution_count": null,
      "metadata": {},
      "outputs": [],
      "source": [
        "from sklearn.svm import SVC\n",
        "from sklearn.multiclass import OneVsRestClassifier\n",
        "from sklearn.preprocessing import LabelBinarizer\n",
        "X = [[1, 2], [3, 4], [4, 5], [5, 2], [1, 1]]\n",
        "y = [0, 0, 1, 1, 2]\n",
        "classif = OneVsRestClassifier(estimator = SVC(gamma = 'scale',random_state = 0))\n",
        "classif.fit(X, y).predict(X)"
      ]
    },
    {
      "cell_type": "code",
      "execution_count": null,
      "metadata": {},
      "outputs": [],
      "source": [
        "from sklearn.svm import SVC\n",
        "from sklearn.multiclass import OneVsRestClassifier\n",
        "from sklearn.preprocessing import LabelBinarizer\n",
        "X = [[1, 2], [3, 4], [4, 5], [5, 2], [1, 1]]\n",
        "y = LabelBinarizer().fit_transform(y)\n",
        "classif.fit(X, y).predict(X)"
      ]
    },
    {
      "cell_type": "code",
      "execution_count": null,
      "metadata": {},
      "outputs": [],
      "source": [
        "from sklearn.preprocessing import MultiLabelBinarizer\n",
        "y = [[0, 1], [0, 2], [1, 3], [0, 2, 3], [2, 4]]\n",
        "y = MultiLabelBinarizer().fit_transform(y)\n",
        "classif.fit(X, y).predict(X)"
      ]
    },
    {
      "cell_type": "markdown",
      "metadata": {},
      "source": [
        "## Linear Modeling"
      ]
    },
    {
      "cell_type": "markdown",
      "metadata": {},
      "source": [
        "## Extended Linear Modeling"
      ]
    },
    {
      "cell_type": "markdown",
      "metadata": {},
      "source": [
        "## SGD"
      ]
    },
    {
      "cell_type": "markdown",
      "metadata": {},
      "source": [
        "## Support Vector Machines"
      ]
    },
    {
      "cell_type": "markdown",
      "metadata": {},
      "source": [
        "## Anomaly Detection"
      ]
    },
    {
      "cell_type": "markdown",
      "metadata": {},
      "source": [
        "## K-Nearest Neighbors (KNN)"
      ]
    },
    {
      "cell_type": "markdown",
      "metadata": {},
      "source": [
        "## KNN Learning"
      ]
    },
    {
      "cell_type": "markdown",
      "metadata": {},
      "source": [
        "## Classification with Naïve Bayes"
      ]
    },
    {
      "cell_type": "markdown",
      "metadata": {},
      "source": [
        "## Decision Trees"
      ]
    },
    {
      "cell_type": "markdown",
      "metadata": {},
      "source": [
        "## Randomized Decision Trees"
      ]
    },
    {
      "cell_type": "markdown",
      "metadata": {},
      "source": [
        "## Boosting Methods"
      ]
    },
    {
      "cell_type": "markdown",
      "metadata": {},
      "source": [
        "## Clustering Methods"
      ]
    },
    {
      "cell_type": "markdown",
      "metadata": {},
      "source": [
        "## Clustering Performance Evaluation"
      ]
    },
    {
      "cell_type": "markdown",
      "metadata": {},
      "source": [
        "## Dimensionality Reduction using PCA"
      ]
    }
  ],
  "metadata": {
    "colab": {
      "authorship_tag": "ABX9TyN0giQaJpCsHDqEsvhlQ/lV",
      "include_colab_link": true,
      "provenance": []
    },
    "kernelspec": {
      "display_name": "Python 3",
      "name": "python3"
    },
    "language_info": {
      "name": "python"
    }
  },
  "nbformat": 4,
  "nbformat_minor": 0
}
