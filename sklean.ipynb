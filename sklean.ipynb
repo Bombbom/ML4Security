{
  "cells": [
    {
      "cell_type": "markdown",
      "metadata": {
        "id": "view-in-github",
        "colab_type": "text"
      },
      "source": [
        "<a href=\"https://colab.research.google.com/github/Bombbom/ML4Security/blob/main/sklean.ipynb\" target=\"_parent\"><img src=\"https://colab.research.google.com/assets/colab-badge.svg\" alt=\"Open In Colab\"/></a>"
      ]
    },
    {
      "cell_type": "markdown",
      "metadata": {
        "id": "FO6ux8bU4qwm"
      },
      "source": [
        "Step 1: Choose a class of model\n",
        "In this first step, we need to choose a class of model. It can be done by importing the appropriate Estimator class from Scikit-learn.\n",
        "\n",
        "Step 2: Choose model hyperparameters\n",
        "In this step, we need to choose class model hyperparameters. It can be done by instantiating the class with desired values.\n",
        "\n",
        "Step 3: Arranging the data\n",
        "Next, we need to arrange the data into features matrix (X) and target vector(y).\n",
        "\n",
        "Step 4: Model Fitting\n",
        "Now, we need to fit the model to your data. It can be done by calling fit() method of the model instance.\n",
        "\n",
        "Step 5: Applying the model\n",
        "After fitting the model, we can apply it to new data. For supervised learning, use predict() method to predict the labels for unknown data. While for unsupervised learning, use predict() or transform() to infer properties of the data."
      ]
    },
    {
      "cell_type": "code",
      "execution_count": null,
      "metadata": {
        "id": "gs4i5QUTrIAY"
      },
      "outputs": [],
      "source": [
        "%matplotlib inline\n",
        "import matplotlib.pyplot as plt\n",
        "import numpy as np\n",
        "import seaborn as sns\n",
        "\n",
        "iris = sns.load_dataset('iris')\n",
        "X_iris = iris.drop('species', axis = 1)\n",
        "X_iris.shape\n",
        "y_iris = iris['species']\n",
        "y_iris.shape\n",
        "\n",
        "rng = np.random.RandomState(35)\n",
        "x = 10*rng.rand(40)\n",
        "y = 2*x-1+rng.randn(40)\n",
        "plt.scatter(x,y);\n",
        "from sklearn.linear_model import LinearRegression\n",
        "model = LinearRegression(fit_intercept=True)\n",
        "model\n",
        "X = x[:, np.newaxis]\n",
        "X.shape\n",
        "\n",
        "model.fit(X, y)\n",
        "model.coef_\n",
        "model.intercept_\n",
        "\n",
        "xfit = np.linspace(-1, 11)\n",
        "Xfit = xfit[:, np.newaxis]\n",
        "yfit = model.predict(Xfit)\n",
        "plt.scatter(x, y)\n",
        "plt.plot(xfit, yfit);"
      ]
    },
    {
      "cell_type": "markdown",
      "metadata": {
        "id": "vf-hlxZD4qwu"
      },
      "source": [
        "- Multiclass\n",
        "- Multilabel\n",
        "\n"
      ]
    },
    {
      "cell_type": "code",
      "execution_count": null,
      "metadata": {
        "id": "oxi-u0m_4qwv"
      },
      "outputs": [],
      "source": [
        "from sklearn.svm import SVC\n",
        "from sklearn.multiclass import OneVsRestClassifier\n",
        "from sklearn.preprocessing import LabelBinarizer\n",
        "X = [[1, 2], [3, 4], [4, 5], [5, 2], [1, 1]]\n",
        "y = [0, 0, 1, 1, 2]\n",
        "classif = OneVsRestClassifier(estimator = SVC(gamma = 'scale',random_state = 0))\n",
        "classif.fit(X, y).predict(X)"
      ]
    },
    {
      "cell_type": "code",
      "execution_count": null,
      "metadata": {
        "id": "T1F4FUpN4qww"
      },
      "outputs": [],
      "source": [
        "from sklearn.svm import SVC\n",
        "from sklearn.multiclass import OneVsRestClassifier\n",
        "from sklearn.preprocessing import LabelBinarizer\n",
        "X = [[1, 2], [3, 4], [4, 5], [5, 2], [1, 1]]\n",
        "y = LabelBinarizer().fit_transform(y)\n",
        "classif.fit(X, y).predict(X)"
      ]
    },
    {
      "cell_type": "code",
      "execution_count": null,
      "metadata": {
        "id": "_WoeKkDo4qwx"
      },
      "outputs": [],
      "source": [
        "from sklearn.preprocessing import MultiLabelBinarizer\n",
        "y = [[0, 1], [0, 2], [1, 3], [0, 2, 3], [2, 4]]\n",
        "y = MultiLabelBinarizer().fit_transform(y)\n",
        "classif.fit(X, y).predict(X)"
      ]
    },
    {
      "cell_type": "markdown",
      "metadata": {
        "id": "9hda9Zqb4qwy"
      },
      "source": [
        "## Linear Modeling"
      ]
    },
    {
      "cell_type": "markdown",
      "metadata": {
        "id": "tp_2Gaav4qwz"
      },
      "source": [
        "## Extended Linear Modeling"
      ]
    },
    {
      "cell_type": "markdown",
      "metadata": {
        "id": "RAGM2JvV4qwz"
      },
      "source": [
        "## SGD"
      ]
    },
    {
      "cell_type": "markdown",
      "metadata": {
        "id": "Am9cYqN-4qw0"
      },
      "source": [
        "## Support Vector Machines"
      ]
    },
    {
      "cell_type": "markdown",
      "metadata": {
        "id": "w0P-HkEK4qw1"
      },
      "source": [
        "## Anomaly Detection"
      ]
    },
    {
      "cell_type": "markdown",
      "metadata": {
        "id": "YCTaIlKC4qw1"
      },
      "source": [
        "## K-Nearest Neighbors (KNN)"
      ]
    },
    {
      "cell_type": "markdown",
      "metadata": {
        "id": "MmlafCXS4qw1"
      },
      "source": [
        "## KNN Learning"
      ]
    },
    {
      "cell_type": "markdown",
      "metadata": {
        "id": "fimOT6yJ4qw2"
      },
      "source": [
        "## Classification with Naïve Bayes"
      ]
    },
    {
      "cell_type": "markdown",
      "metadata": {
        "id": "w9Pp5pHu4qw2"
      },
      "source": [
        "## Decision Trees"
      ]
    },
    {
      "cell_type": "markdown",
      "metadata": {
        "id": "DGzCODuf4qw2"
      },
      "source": [
        "## Randomized Decision Trees"
      ]
    },
    {
      "cell_type": "markdown",
      "metadata": {
        "id": "ltTuOATh4qw2"
      },
      "source": [
        "## Boosting Methods"
      ]
    },
    {
      "cell_type": "markdown",
      "metadata": {
        "id": "xb1trAjt4qw3"
      },
      "source": [
        "## Clustering Methods"
      ]
    },
    {
      "cell_type": "markdown",
      "metadata": {
        "id": "jb6QRifS4qw3"
      },
      "source": [
        "## Clustering Performance Evaluation"
      ]
    },
    {
      "cell_type": "markdown",
      "metadata": {
        "id": "4d796HuQ4qw4"
      },
      "source": [
        "## Dimensionality Reduction using PCA"
      ]
    },
    {
      "cell_type": "markdown",
      "source": [
        "## Hàm biểu diễn One-hot véc tơ\n",
        "\n",
        "![image.png](data:image/png;base64,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)"
      ],
      "metadata": {
        "id": "nhNHfe054wtW"
      }
    },
    {
      "cell_type": "code",
      "source": [
        "from sklearn.preprocessing import LabelEncoder\n",
        "\n",
        "le = LabelEncoder()\n",
        "words = ['anh', 'em', 'gia đình', 'bạn bè', 'anh', 'em']\n",
        "le.fit(words)\n",
        "\n",
        "print('Class of words: ', le.classes_)\n",
        "# Biến đổi sang dạng số\n",
        "x = le.transform(words)\n",
        "print('Convert to number: ', x)\n",
        "# Biến đổi lại sang class\n",
        "print('Invert into classes: ', le.inverse_transform(x))"
      ],
      "metadata": {
        "id": "Z_jJKtAT43SM",
        "outputId": "ff4b5d38-a64a-49c6-f575-d228b54d0176",
        "colab": {
          "base_uri": "https://localhost:8080/"
        }
      },
      "execution_count": 1,
      "outputs": [
        {
          "output_type": "stream",
          "name": "stdout",
          "text": [
            "Class of words:  ['anh' 'bạn bè' 'em' 'gia đình']\n",
            "Convert to number:  [0 2 3 1 0 2]\n",
            "Invert into classes:  ['anh' 'em' 'gia đình' 'bạn bè' 'anh' 'em']\n"
          ]
        }
      ]
    },
    {
      "cell_type": "code",
      "source": [
        "from sklearn.preprocessing import OneHotEncoder\n",
        "import numpy as np\n",
        "\n",
        "oh = OneHotEncoder()\n",
        "classes_indices = list(zip(le.classes_, np.arange(len(le.classes_))))\n",
        "print('Classes_indices: ', classes_indices)\n",
        "oh.fit(classes_indices)\n",
        "print('One-hot categories and indices:', oh.categories_)\n",
        "# Biến đổi list words sang dạng one-hot\n",
        "words_indices = list(zip(words, x))\n",
        "print('Words and corresponding indices: ', words_indices)\n",
        "one_hot = oh.transform(words_indices).toarray()\n",
        "print('Transform words into one-hot matrices: \\n', one_hot)\n",
        "print('Inverse transform to categories from one-hot matrices: \\n', oh.inverse_transform(one_hot))\n"
      ],
      "metadata": {
        "id": "4LrTznLP5WW-",
        "outputId": "b1394edf-13ec-4a4f-b50d-89cebd3f04e4",
        "colab": {
          "base_uri": "https://localhost:8080/"
        }
      },
      "execution_count": 2,
      "outputs": [
        {
          "output_type": "stream",
          "name": "stdout",
          "text": [
            "Classes_indices:  [('anh', 0), ('bạn bè', 1), ('em', 2), ('gia đình', 3)]\n",
            "One-hot categories and indices: [array(['anh', 'bạn bè', 'em', 'gia đình'], dtype=object), array([0, 1, 2, 3], dtype=object)]\n",
            "Words and corresponding indices:  [('anh', 0), ('em', 2), ('gia đình', 3), ('bạn bè', 1), ('anh', 0), ('em', 2)]\n",
            "Transform words into one-hot matrices: \n",
            " [[1. 0. 0. 0. 1. 0. 0. 0.]\n",
            " [0. 0. 1. 0. 0. 0. 1. 0.]\n",
            " [0. 0. 0. 1. 0. 0. 0. 1.]\n",
            " [0. 1. 0. 0. 0. 1. 0. 0.]\n",
            " [1. 0. 0. 0. 1. 0. 0. 0.]\n",
            " [0. 0. 1. 0. 0. 0. 1. 0.]]\n",
            "Inverse transform to categories from one-hot matrices: \n",
            " [['anh' 0]\n",
            " ['em' 2]\n",
            " ['gia đình' 3]\n",
            " ['bạn bè' 1]\n",
            " ['anh' 0]\n",
            " ['em' 2]]\n"
          ]
        }
      ]
    }
  ],
  "metadata": {
    "colab": {
      "provenance": [],
      "include_colab_link": true
    },
    "kernelspec": {
      "display_name": "Python 3",
      "name": "python3"
    },
    "language_info": {
      "name": "python"
    }
  },
  "nbformat": 4,
  "nbformat_minor": 0
}